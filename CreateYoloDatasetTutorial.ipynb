{
 "cells": [
  {
   "cell_type": "code",
   "execution_count": 184,
   "id": "2870235a-685d-42e5-9ad4-083c43afeb8a",
   "metadata": {},
   "outputs": [],
   "source": [
    "from pathlib import Path\n",
    "from yamlu import ls\n",
    "from yamlu.coco_read import CocoReader"
   ]
  },
  {
   "cell_type": "code",
   "execution_count": 185,
   "id": "ba95578f-997b-4e41-8121-92afdb9dc881",
   "metadata": {},
   "outputs": [],
   "source": [
    "import os\n",
    "import json\n",
    "import collections\n",
    "import shutil\n",
    "import random"
   ]
  },
  {
   "cell_type": "markdown",
   "id": "cc63b9fd-dfb8-47aa-a1ad-a9f94b9c370f",
   "metadata": {},
   "source": [
    "# Creating the Yolo Dataset from the COCO Datasets\n",
    "\n",
    "In handwritten-diagram-datasets/datasets/ we have different datasets in COCO format. Need to convert these to YOLO format."
   ]
  },
  {
   "cell_type": "markdown",
   "id": "ba5d4aa8-3cdd-48bf-bcb1-3e71b76a6274",
   "metadata": {},
   "source": [
    "### Step 1: Set up destination directories/source directories"
   ]
  },
  {
   "cell_type": "code",
   "execution_count": 186,
   "id": "20077b23-f612-43b0-84fc-c2ddd6afc1f4",
   "metadata": {},
   "outputs": [],
   "source": [
    "os.mkdir(\"yolo_dataset\")\n",
    "os.mkdir(\"yolo_dataset/images\")\n",
    "os.mkdir(\"yolo_dataset/labels/\")"
   ]
  },
  {
   "cell_type": "code",
   "execution_count": 187,
   "id": "d129a7ab-17da-40b9-b9dd-25840be274e5",
   "metadata": {},
   "outputs": [],
   "source": [
    "data_dirs = {'fa': \"handwritten-diagram-datasets/datasets/fa\", # finite automata - FINAL STATES ARE NOT LABELED CORRECLTY FOR OUR PURPOSES: SKIP\n",
    "             'fca': \"handwritten-diagram-datasets/datasets/fca\", # online flowchart: INCLUDE\n",
    "             'fcb': \"handwritten-diagram-datasets/datasets/fcb\", # offline flowchart: INCLUDE\n",
    "             'fcb_scan': \"handwritten-diagram-datasets/datasets/fcb_scan\", # DUPLICATE OF fcb: SKIP\n",
    "             'didi': \"handwritten-diagram-datasets/datasets/didi\"}"
   ]
  },
  {
   "cell_type": "markdown",
   "id": "50820788-256e-4878-b4b1-4a13db8d83eb",
   "metadata": {},
   "source": [
    "### Step 2: Export the COCO labels from the json files to YOLO labels in new directory"
   ]
  },
  {
   "cell_type": "code",
   "execution_count": 188,
   "id": "431b82f1-2c7e-4d8c-acb8-f26aa05f012c",
   "metadata": {},
   "outputs": [],
   "source": [
    "labels_dict = {\n",
    "    'final': ['circle', 'rectangle', 'parallelogram', 'diamond', 'arrow', 'text'],\n",
    "    'general': ['connection', 'data', 'decision', 'process', 'terminator', 'text', 'arrow']\n",
    "}\n",
    "\n",
    "label_map = { # what each COCO label should become in the YOLO labels\n",
    "    'connection': 'circle',\n",
    "    'data': 'parallelogram',\n",
    "    'decision': 'diamond',\n",
    "    'process': 'rectangle',\n",
    "    'terminator': 'circle',\n",
    "    'text': 'text',\n",
    "    'arrow': 'arrow'\n",
    "}"
   ]
  },
  {
   "cell_type": "code",
   "execution_count": 189,
   "id": "1f841cc9-f8a8-4a07-af47-5af1bce808ee",
   "metadata": {},
   "outputs": [],
   "source": [
    "def parse_coco_json_to_yolo_with_cocoreader(coco_dir, dest_dir, labels, label_map=None, train=True, doPrint=False):\n",
    "    label_set = set(labels)\n",
    "    \n",
    "    scan_reader = CocoReader(Path(coco_dir))\n",
    "\n",
    "    if train:\n",
    "        ann_imgs = scan_reader.parse_split(\"train\")\n",
    "    else:\n",
    "        ann_imgs = scan_reader.parse_split(\"test\")\n",
    "\n",
    "    for image in ann_imgs:\n",
    "        img_name = image.filename\n",
    "        img_width, img_height = image.size\n",
    "        with open(os.path.join(dest_dir, img_name[:-4] + '.txt'), 'w') as f:\n",
    "            for annotation in image.annotations:\n",
    "                if (label_map and label_map[annotation.category] not in label_set) or (not label_map and annotation.category not in label_set):\n",
    "                    print(f\"WARNING: There is an annotation not in the label set/map with label {annotation.text}.\")\n",
    "                    continue\n",
    "                \n",
    "                xmin = annotation.bb.l\n",
    "                ymin = annotation.bb.t\n",
    "                xmax = annotation.bb.r\n",
    "                ymax = annotation.bb.b\n",
    "                \n",
    "                xcenter = ((xmin + xmax) / 2) / img_width\n",
    "                ycenter = ((ymin + ymax) / 2) / img_height\n",
    "                width = (xmax - xmin) / img_width\n",
    "                height = (ymax - ymin) / img_height\n",
    "                if label_map:\n",
    "                    f.write(f\"{labels.index(label_map[annotation.category])} {xcenter} {ycenter} {width} {height}\\n\")\n",
    "                    if doPrint:\n",
    "                        print(img_name, labels.index(label_map[annotation.category]), xcenter, ycenter, width, height)\n",
    "                else:\n",
    "                    f.write(f\"{labels.index(annotation.category)} {xcenter} {ycenter} {width} {height}\\n\")\n",
    "                    if doPrint:\n",
    "                        print(img_name, labels.index(annotation.category), xcenter, ycenter, width, height)\n"
   ]
  },
  {
   "cell_type": "code",
   "execution_count": 190,
   "id": "24392801-c681-4543-a0e0-2b1a3840f186",
   "metadata": {},
   "outputs": [
    {
     "name": "stderr",
     "output_type": "stream",
     "text": [
      "100%|███████████████████████████████████████████████████████████████████████████████| 280/280 [00:02<00:00, 102.65it/s]\n"
     ]
    }
   ],
   "source": [
    "# FCB train labels\n",
    "parse_coco_json_to_yolo_with_cocoreader(data_dirs['fcb'], \"yolo_dataset/labels\", labels_dict['final'], label_map)"
   ]
  },
  {
   "cell_type": "code",
   "execution_count": 191,
   "id": "e77d20c7-c200-4bb4-b2c8-e14fae7e3c53",
   "metadata": {},
   "outputs": [
    {
     "name": "stderr",
     "output_type": "stream",
     "text": [
      "100%|████████████████████████████████████████████████████████████████████████████████| 196/196 [00:02<00:00, 94.23it/s]\n"
     ]
    }
   ],
   "source": [
    "# FCB test labels\n",
    "parse_coco_json_to_yolo_with_cocoreader(data_dirs['fcb'], \"yolo_dataset/labels\", labels_dict['final'], label_map, train=False)"
   ]
  },
  {
   "cell_type": "code",
   "execution_count": 192,
   "id": "831a558e-b268-4200-b0a9-30d3c13d3d60",
   "metadata": {},
   "outputs": [
    {
     "name": "stderr",
     "output_type": "stream",
     "text": [
      "100%|███████████████████████████████████████████████████████████████████████████████| 248/248 [00:02<00:00, 108.06it/s]\n"
     ]
    }
   ],
   "source": [
    "# FCA train labels\n",
    "parse_coco_json_to_yolo_with_cocoreader(data_dirs['fca'], \"yolo_dataset/labels\", labels_dict['final'], label_map)"
   ]
  },
  {
   "cell_type": "code",
   "execution_count": 193,
   "id": "87ef9a22-4e09-4994-b358-1aed2dbf3814",
   "metadata": {},
   "outputs": [
    {
     "name": "stderr",
     "output_type": "stream",
     "text": [
      "100%|███████████████████████████████████████████████████████████████████████████████| 171/171 [00:01<00:00, 105.77it/s]\n"
     ]
    }
   ],
   "source": [
    "# FCA test labels\n",
    "parse_coco_json_to_yolo_with_cocoreader(data_dirs['fca'], \"yolo_dataset/labels\", labels_dict['final'], label_map, train=False)"
   ]
  },
  {
   "cell_type": "markdown",
   "id": "27b3a3f8-919e-499a-8ecf-ca86559b56fd",
   "metadata": {},
   "source": [
    "### Step 3: Copy the images from handwritten datasets to COCO datasets"
   ]
  },
  {
   "cell_type": "code",
   "execution_count": 194,
   "id": "6a2d31da-d492-4bb4-adf9-c0577315868d",
   "metadata": {},
   "outputs": [],
   "source": [
    "def move_all_imgs(src_dir, dest_dir, keep=4):\n",
    "    ctr = 0\n",
    "    for img in list(filter(lambda x: \"jpg\" in x or \"png\" in x,  os.listdir(src_dir))):\n",
    "        if ctr < keep:\n",
    "            shutil.copy(os.path.join(src_dir, img), os.path.join(dest_dir, img))\n",
    "            ctr += 1\n",
    "        else:\n",
    "            shutil.move(os.path.join(src_dir, img), os.path.join(dest_dir, img))"
   ]
  },
  {
   "cell_type": "code",
   "execution_count": 195,
   "id": "7f9b8c5b-aa15-4d47-a630-099533f8f147",
   "metadata": {},
   "outputs": [],
   "source": [
    "# FCB train images\n",
    "move_all_imgs(os.path.join(data_dirs[\"fcb\"], \"train\"), \"yolo_dataset/images\")"
   ]
  },
  {
   "cell_type": "code",
   "execution_count": 196,
   "id": "60f4b24c-7c0d-41bd-b1bb-e0cb7567723a",
   "metadata": {},
   "outputs": [],
   "source": [
    "# FCB test images\n",
    "move_all_imgs(os.path.join(data_dirs[\"fcb\"], \"test\"), \"yolo_dataset/images\")"
   ]
  },
  {
   "cell_type": "code",
   "execution_count": 197,
   "id": "d49bb140-8744-4177-b1f1-faa69773286d",
   "metadata": {},
   "outputs": [],
   "source": [
    "# FCA train images\n",
    "move_all_imgs(os.path.join(data_dirs[\"fca\"], \"train\"), \"yolo_dataset/images\")"
   ]
  },
  {
   "cell_type": "code",
   "execution_count": 198,
   "id": "9f72c0ba-360c-445c-a051-6e0e571d3e05",
   "metadata": {},
   "outputs": [],
   "source": [
    "# FCA test images\n",
    "move_all_imgs(os.path.join(data_dirs[\"fca\"], \"test\"), \"yolo_dataset/images\")"
   ]
  },
  {
   "cell_type": "markdown",
   "id": "ef210673-3472-4453-979a-1315ffe269ff",
   "metadata": {},
   "source": [
    "### Step 4: Create the labels.txt file from the COCO json file"
   ]
  },
  {
   "cell_type": "code",
   "execution_count": 199,
   "id": "b7928396-b37e-43a2-8a97-df6638534a17",
   "metadata": {},
   "outputs": [],
   "source": [
    "def get_labels_txt_file(json_file):\n",
    "    with open(json_file, 'r') as f:\n",
    "        j = json.load(f)\n",
    "\n",
    "    labels = list()\n",
    "    \n",
    "    for cat in j[\"categories\"]:\n",
    "        labels.append(cat['name'])\n",
    "\n",
    "    return labels"
   ]
  },
  {
   "cell_type": "code",
   "execution_count": 200,
   "id": "668e25f1-6695-4473-80c8-4f32b381cfb2",
   "metadata": {},
   "outputs": [],
   "source": [
    "def write_labels_txt_file(labels, dest_file):\n",
    "    with open(dest_file, 'w') as f:\n",
    "        for label in labels:\n",
    "            f.write(label + '\\n')"
   ]
  },
  {
   "cell_type": "code",
   "execution_count": 201,
   "id": "87a1a5cd-befb-415f-b297-0479293256a8",
   "metadata": {},
   "outputs": [
    {
     "data": {
      "text/plain": [
       "['connection', 'data', 'decision', 'process', 'terminator', 'text', 'arrow']"
      ]
     },
     "execution_count": 201,
     "metadata": {},
     "output_type": "execute_result"
    }
   ],
   "source": [
    "get_labels_txt_file(data_dirs['fca'] + \"/train.json\")"
   ]
  },
  {
   "cell_type": "code",
   "execution_count": 202,
   "id": "4aaa10c3-07db-41f2-b4eb-db6afb009ea4",
   "metadata": {},
   "outputs": [
    {
     "data": {
      "text/plain": [
       "['connection', 'data', 'decision', 'process', 'terminator', 'text', 'arrow']"
      ]
     },
     "execution_count": 202,
     "metadata": {},
     "output_type": "execute_result"
    }
   ],
   "source": [
    "get_labels_txt_file(data_dirs['fcb'] + \"/train.json\")"
   ]
  },
  {
   "cell_type": "code",
   "execution_count": 203,
   "id": "d3165fdb-324e-4bef-aec5-7a737d54fcc1",
   "metadata": {},
   "outputs": [],
   "source": [
    "write_labels_txt_file(labels_dict['final'], \"yolo_dataset/labels.txt\")"
   ]
  },
  {
   "cell_type": "markdown",
   "id": "83c67807-d9fa-4aa8-806d-ff82ac68d7a1",
   "metadata": {},
   "source": [
    "### Step 5: Random Train/Test Split"
   ]
  },
  {
   "cell_type": "code",
   "execution_count": 204,
   "id": "2339ebbb-5f8a-4b57-bb95-51c41b91d747",
   "metadata": {},
   "outputs": [],
   "source": [
    "os.mkdir(\"yolo_dataset/train\")\n",
    "os.mkdir(\"yolo_dataset/test\")\n",
    "os.mkdir(\"yolo_dataset/train/images\")\n",
    "os.mkdir(\"yolo_dataset/train/labels\")\n",
    "os.mkdir(\"yolo_dataset/test/images\")\n",
    "os.mkdir(\"yolo_dataset/test/labels\")"
   ]
  },
  {
   "cell_type": "code",
   "execution_count": 205,
   "id": "9f2cb327-db96-4bae-92f1-5281e88e7583",
   "metadata": {},
   "outputs": [],
   "source": [
    "p = 0.1 # proportion of images to be put in test set\n",
    "\n",
    "img_list = os.listdir(\"yolo_dataset/images\")\n",
    "for img in img_list:\n",
    "    if random.uniform(0, 1) <= p:\n",
    "        # move to test set\n",
    "        shutil.move(os.path.join(\"yolo_dataset/images\", img), os.path.join(\"yolo_dataset/test/images\", img))  \n",
    "        shutil.move(os.path.join(\"yolo_dataset/labels\", img[:-4] + '.txt'), os.path.join(\"yolo_dataset/test/labels\", img[:-4] + '.txt'))  \n",
    "    else:\n",
    "        # move to train set\n",
    "        shutil.move(os.path.join(\"yolo_dataset/images\", img), os.path.join(\"yolo_dataset/train/images\", img))  \n",
    "        shutil.move(os.path.join(\"yolo_dataset/labels\", img[:-4] + '.txt'), os.path.join(\"yolo_dataset/train/labels\", img[:-4] + '.txt')) "
   ]
  },
  {
   "cell_type": "code",
   "execution_count": 206,
   "id": "dde0fb38-983e-4c4a-9a20-7e6e637453cb",
   "metadata": {},
   "outputs": [],
   "source": [
    "os.rmdir(\"yolo_dataset/images\")\n",
    "os.rmdir(\"yolo_dataset/labels\")"
   ]
  },
  {
   "cell_type": "markdown",
   "id": "befa0966-c235-4144-8215-db5d5c103904",
   "metadata": {},
   "source": [
    "# ...Now have yolo_dataset directory with the correct files from COCO datasets"
   ]
  },
  {
   "cell_type": "code",
   "execution_count": null,
   "id": "d7df071f-11b1-478a-84ef-1f439c214ae4",
   "metadata": {},
   "outputs": [],
   "source": []
  }
 ],
 "metadata": {
  "kernelspec": {
   "display_name": "Python 3 (ipykernel)",
   "language": "python",
   "name": "python3"
  },
  "language_info": {
   "codemirror_mode": {
    "name": "ipython",
    "version": 3
   },
   "file_extension": ".py",
   "mimetype": "text/x-python",
   "name": "python",
   "nbconvert_exporter": "python",
   "pygments_lexer": "ipython3",
   "version": "3.10.11"
  }
 },
 "nbformat": 4,
 "nbformat_minor": 5
}
