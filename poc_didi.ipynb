{
 "cells": [
  {
   "cell_type": "markdown",
   "id": "98df6ae6",
   "metadata": {},
   "source": [
    "## Setup\n",
    "\n",
    "- Working directory: Project Root Directory\n",
    "- Required Packages: google-cloud-storage"
   ]
  },
  {
   "cell_type": "code",
   "execution_count": 1,
   "id": "286f192e",
   "metadata": {},
   "outputs": [
    {
     "name": "stdout",
     "output_type": "stream",
     "text": [
      "Requirement already satisfied: google-cloud-storage in /Users/pao214/miniconda3/envs/torch/lib/python3.11/site-packages (2.11.0)\r\n",
      "Requirement already satisfied: google-auth<3.0dev,>=1.25.0 in /Users/pao214/miniconda3/envs/torch/lib/python3.11/site-packages (from google-cloud-storage) (2.22.0)\r\n",
      "Requirement already satisfied: google-api-core!=2.0.*,!=2.1.*,!=2.2.*,!=2.3.0,<3.0.0dev,>=1.31.5 in /Users/pao214/miniconda3/envs/torch/lib/python3.11/site-packages (from google-cloud-storage) (2.12.0)\r\n",
      "Requirement already satisfied: google-cloud-core<3.0dev,>=2.3.0 in /Users/pao214/miniconda3/envs/torch/lib/python3.11/site-packages (from google-cloud-storage) (2.3.3)\r\n",
      "Requirement already satisfied: google-resumable-media>=2.6.0 in /Users/pao214/miniconda3/envs/torch/lib/python3.11/site-packages (from google-cloud-storage) (2.6.0)\r\n",
      "Requirement already satisfied: requests<3.0.0dev,>=2.18.0 in /Users/pao214/miniconda3/envs/torch/lib/python3.11/site-packages (from google-cloud-storage) (2.31.0)\r\n",
      "Requirement already satisfied: googleapis-common-protos<2.0.dev0,>=1.56.2 in /Users/pao214/miniconda3/envs/torch/lib/python3.11/site-packages (from google-api-core!=2.0.*,!=2.1.*,!=2.2.*,!=2.3.0,<3.0.0dev,>=1.31.5->google-cloud-storage) (1.60.0)\r\n",
      "Requirement already satisfied: protobuf!=3.20.0,!=3.20.1,!=4.21.0,!=4.21.1,!=4.21.2,!=4.21.3,!=4.21.4,!=4.21.5,<5.0.0.dev0,>=3.19.5 in /Users/pao214/miniconda3/envs/torch/lib/python3.11/site-packages (from google-api-core!=2.0.*,!=2.1.*,!=2.2.*,!=2.3.0,<3.0.0dev,>=1.31.5->google-cloud-storage) (3.20.3)\r\n",
      "Requirement already satisfied: cachetools<6.0,>=2.0.0 in /Users/pao214/miniconda3/envs/torch/lib/python3.11/site-packages (from google-auth<3.0dev,>=1.25.0->google-cloud-storage) (4.2.2)\r\n",
      "Requirement already satisfied: pyasn1-modules>=0.2.1 in /Users/pao214/miniconda3/envs/torch/lib/python3.11/site-packages (from google-auth<3.0dev,>=1.25.0->google-cloud-storage) (0.2.8)\r\n",
      "Requirement already satisfied: rsa<5,>=3.1.4 in /Users/pao214/miniconda3/envs/torch/lib/python3.11/site-packages (from google-auth<3.0dev,>=1.25.0->google-cloud-storage) (4.7.2)\r\n",
      "Requirement already satisfied: six>=1.9.0 in /Users/pao214/miniconda3/envs/torch/lib/python3.11/site-packages (from google-auth<3.0dev,>=1.25.0->google-cloud-storage) (1.16.0)\r\n",
      "Requirement already satisfied: urllib3<2.0 in /Users/pao214/miniconda3/envs/torch/lib/python3.11/site-packages (from google-auth<3.0dev,>=1.25.0->google-cloud-storage) (1.26.16)\r\n",
      "Requirement already satisfied: google-crc32c<2.0dev,>=1.0 in /Users/pao214/miniconda3/envs/torch/lib/python3.11/site-packages (from google-resumable-media>=2.6.0->google-cloud-storage) (1.5.0)\r\n",
      "Requirement already satisfied: charset-normalizer<4,>=2 in /Users/pao214/miniconda3/envs/torch/lib/python3.11/site-packages (from requests<3.0.0dev,>=2.18.0->google-cloud-storage) (2.0.4)\r\n",
      "Requirement already satisfied: idna<4,>=2.5 in /Users/pao214/miniconda3/envs/torch/lib/python3.11/site-packages (from requests<3.0.0dev,>=2.18.0->google-cloud-storage) (3.4)\r\n",
      "Requirement already satisfied: certifi>=2017.4.17 in /Users/pao214/miniconda3/envs/torch/lib/python3.11/site-packages (from requests<3.0.0dev,>=2.18.0->google-cloud-storage) (2023.7.22)\r\n",
      "Requirement already satisfied: pyasn1<0.5.0,>=0.4.6 in /Users/pao214/miniconda3/envs/torch/lib/python3.11/site-packages (from pyasn1-modules>=0.2.1->google-auth<3.0dev,>=1.25.0->google-cloud-storage) (0.4.8)\r\n"
     ]
    }
   ],
   "source": [
    "!pip install google-cloud-storage"
   ]
  },
  {
   "cell_type": "code",
   "execution_count": 15,
   "id": "18921063",
   "metadata": {},
   "outputs": [],
   "source": [
    "import json\n",
    "\n",
    "from pathlib import Path\n",
    "from google.cloud import storage\n",
    "from matplotlib import pyplot as plt\n",
    "import matplotlib.patches as patches\n",
    "from tqdm.contrib.concurrent import thread_map"
   ]
  },
  {
   "cell_type": "code",
   "execution_count": 125,
   "id": "e54fcc9a",
   "metadata": {},
   "outputs": [],
   "source": [
    "# Settings\n",
    "\n",
    "DATASETS = [\"diagrams_wo_text\", \"diagrams\"]\n",
    "BUCKET_NAME = \"digital_ink_diagram_data\"\n",
    "MAX_WORKERS = 8\n",
    "PREPROC_DIR = 'didi_dataset'\n",
    "SPLITS = {'test': 'test', 'train': 'train', 'valid': 'val'}"
   ]
  },
  {
   "cell_type": "code",
   "execution_count": 126,
   "id": "dae9078b",
   "metadata": {},
   "outputs": [],
   "source": [
    "# Helper settings\n",
    "\n",
    "def json_file(dataset):\n",
    "    return f'{PREPROC_DIR}/{dataset}_20200131.ndjson'\n",
    "\n",
    "def data_dir(dataset):\n",
    "    return f'data/didi_{dataset}'"
   ]
  },
  {
   "cell_type": "markdown",
   "id": "34632cf6",
   "metadata": {},
   "source": [
    "### Setup\n",
    "\n",
    "\n",
    "- Setup scratch space to download files\n",
    "- Download ndjson and the xdot files\n",
    "- Setup images, and labels folders\n",
    "- Parse ndjson and xdot\n",
    "    - Split into test, train, and val\n",
    "    - Collect various categories from the xdot file\n",
    "    - Print input images\n",
    "    - Approximate bounding boxes for shapes\n",
    "    - Approximate bounding boxes for arrows\n",
    "    - Filter examples where there is no overlap between bounding boxes and the strokes"
   ]
  },
  {
   "cell_type": "code",
   "execution_count": 127,
   "id": "d309f44c",
   "metadata": {},
   "outputs": [],
   "source": [
    "def create_dirs():\n",
    "    # Post processed data\n",
    "    for dataset in DATASETS:\n",
    "        ddir = data_dir(dataset)\n",
    "        for split in SPLITS.values():\n",
    "            Path(ddir, split, 'images').mkdir(parents=True)\n",
    "            Path(ddir, split, 'labels').mkdir(parents=True)\n",
    "\n",
    "def download_blob(blob):\n",
    "    blob.download_to_filename(str(Path(PREPROC_DIR, blob.name)))\n",
    "    \n",
    "def download_all():\n",
    "    # Data already downloaded\n",
    "    if Path(PREPROC_DIR, 'xdot').exists():\n",
    "        return\n",
    "    \n",
    "    # Google cloud bucket\n",
    "    Path(PREPROC_DIR, 'xdot').mkdir(parents=True, exist_ok=True)\n",
    "    \n",
    "    # Google Storage Client\n",
    "    client = storage.Client.create_anonymous_client()\n",
    "    bucket = client.bucket(bucket_name=BUCKET_NAME)\n",
    "    \n",
    "    # Download ndjson and xdot files\n",
    "    validext = lambda bname: bname.endswith('.ndjson') or bname.endswith('.xdot')\n",
    "    blobs = [blob for blob in bucket.list_blobs() if validext(blob.name)]\n",
    "    \n",
    "    thread_map(download_blob, blobs, max_workers=MAX_WORKERS)"
   ]
  },
  {
   "cell_type": "code",
   "execution_count": 138,
   "id": "65527293",
   "metadata": {},
   "outputs": [],
   "source": [
    "# TODO: Check data directory existence\n",
    "\n",
    "create_dirs()\n",
    "download_all()"
   ]
  },
  {
   "cell_type": "code",
   "execution_count": 111,
   "id": "15e8ffda",
   "metadata": {},
   "outputs": [
    {
     "data": {
      "text/plain": [
       "{'arrow', 'box', 'diamond', 'octagon', 'oval', 'parallelogram'}"
      ]
     },
     "execution_count": 111,
     "metadata": {},
     "output_type": "execute_result"
    }
   ],
   "source": [
    "# Collect shapes from all xdot files\n",
    "\n",
    "import os\n",
    "import pydot\n",
    "\n",
    "shapes = set(['arrow'])\n",
    "\n",
    "for _, _, files in os.walk(Path(PREPROC_DIR, 'xdot')):\n",
    "    for file in files:\n",
    "        graph = pydot.graph_from_dot_file(Path(PREPROC_DIR, 'xdot', file))[0]\n",
    "        for node in graph.get_nodes():\n",
    "            shape = node.get_shape()\n",
    "            if shape is not None and shape not in shapes:\n",
    "                shapes.add(shape)\n",
    "                \n",
    "shapes"
   ]
  },
  {
   "cell_type": "code",
   "execution_count": 129,
   "id": "08e699b5",
   "metadata": {},
   "outputs": [],
   "source": [
    "## Hardcode list of shapes\n",
    "\n",
    "shapes = ['arrow', 'box', 'diamond', 'octagon', 'oval', 'parallelogram']\n",
    "inv_shapes = {shape: i for i, shape in enumerate(shapes)}"
   ]
  },
  {
   "cell_type": "code",
   "execution_count": 139,
   "id": "9f5a3e69",
   "metadata": {},
   "outputs": [],
   "source": [
    "# Print the hardcoded list to classes.txt\n",
    "def save_shapes():\n",
    "    for dataset in DATASETS:\n",
    "        with open(Path(data_dir(dataset), 'classes.txt'), 'w') as file:\n",
    "            for line in shapes:\n",
    "                file.write(f'{line}\\n')"
   ]
  },
  {
   "cell_type": "code",
   "execution_count": 140,
   "id": "904fa494",
   "metadata": {},
   "outputs": [],
   "source": [
    "save_shapes()"
   ]
  },
  {
   "cell_type": "code",
   "execution_count": 151,
   "id": "63ab1370",
   "metadata": {},
   "outputs": [],
   "source": [
    "# Displays prompt images with drawing overlaid.\n",
    "\n",
    "import pydot\n",
    "\n",
    "from matplotlib.backends.backend_agg import FigureCanvasAgg as FigureCanvas\n",
    "from tqdm import tqdm\n",
    "\n",
    "\n",
    "def PrepareDrawing():\n",
    "    plt.clf()\n",
    "    plt.axes().set_aspect(\"equal\")\n",
    "    plt.gca().yaxis.set_visible(False)\n",
    "    plt.gca().xaxis.set_visible(False)\n",
    "    plt.gca().axis('off')\n",
    "    plt.gca().invert_yaxis()\n",
    "    \n",
    "    \n",
    "def get_drawing_bb(ink):\n",
    "    minx = 99999\n",
    "    miny = 99999\n",
    "    maxx = 0\n",
    "    maxy = 0\n",
    "\n",
    "    for s in ink['drawing']:\n",
    "        minx = min(minx, min(s[0]))\n",
    "        maxx = max(maxx, max(s[0]))\n",
    "        miny = min(miny, min(s[1]))\n",
    "        maxy = max(maxy, max(s[1]))\n",
    "    return (minx, miny, maxx - minx, maxy - miny)\n",
    "    \n",
    "    \n",
    "def bbox_disjoint(bbox1, bbox2):\n",
    "    x1, y1, w1, h1 = bbox1\n",
    "    x2, y2, w2, h2 = bbox2\n",
    "    \n",
    "    # b1 left edge to right of b2 right edge\n",
    "    # b1 right edge to left of b2 left edge\n",
    "    # b1 bottom edge to top of b2 top edge\n",
    "    # b1 top edge to bottom of b2 bottom edge\n",
    "    return x1 > x2 + w2 or x1 + w1 < x2 or y1 > y2 + h2 or y1 + h1 < y2\n",
    "\n",
    "    \n",
    "def approx_bb(ddir, ink, print_bbox=False):\n",
    "    # Compute scaling of the image.\n",
    "    guide_width = ink[\"writing_guide\"][\"width\"]\n",
    "    guide_height = ink[\"writing_guide\"][\"height\"]\n",
    "    \n",
    "    # Graph\n",
    "    graph = pydot.graph_from_dot_file(str(Path(PREPROC_DIR, 'xdot', ink['label_id']).with_suffix('.xdot')))[0]\n",
    "    bb = [float(coord) for coord in graph.get_bb().strip('\"').split(',')]\n",
    "    im_width, im_height = bb[2] - bb[0], bb[3] - bb[1]\n",
    "    \n",
    "    # Compute offsets\n",
    "    scale=min(guide_width / im_width, guide_height / im_height)\n",
    "    offset_x = (guide_width - scale * im_width) / 2\n",
    "    offset_y = (guide_height - scale * im_height) / 2\n",
    "    \n",
    "    # Collect bboxes for each shape and arrow\n",
    "    bboxes = []\n",
    "    src_bbox = get_drawing_bb(ink)\n",
    "    \n",
    "    for node in graph.get_nodes():\n",
    "        shape = node.get_shape()\n",
    "        if shape is None:\n",
    "            continue\n",
    "\n",
    "        pos = [float(coord) for coord in node.get_pos().strip('\"').replace('\\\\\\n', '').split(',')]\n",
    "        cw = offset_x + scale * pos[0]\n",
    "        ch = offset_y + scale * (im_height - pos[1])\n",
    "        bbscale = 75\n",
    "        bbw, bbh = float(node.get_width()) * bbscale * scale, float(node.get_height()) * bbscale * scale\n",
    "        minw, minh = cw - bbw/2, ch - bbh/2\n",
    "        # Check if bbox includes some stroke (only an approximation)\n",
    "        if bbox_disjoint(src_bbox, (minw, minh, bbw, bbh)):\n",
    "            return False\n",
    "        bboxes.append([inv_shapes[shape], minw, minh, bbw, bbh])\n",
    "        if print_bbox:\n",
    "            rectangle = patches.Rectangle((cw - bbw/2, ch - bbh/2), bbw, bbh, \n",
    "                             linewidth=1, edgecolor='b', facecolor='none')\n",
    "            plt.gca().add_patch(rectangle)\n",
    "    \n",
    "    for edge in graph.get_edges():\n",
    "        # Edge\n",
    "        pos = edge.get_pos()\n",
    "        if pos is None:\n",
    "            continue\n",
    "\n",
    "        pos = [[float(feat) for feat in coord.split(',')] for coord in pos.strip('\"').replace('\\\\\\n', '').lstrip('e,').split(' ')]\n",
    "        ws, hs = [coord[0] for coord in pos], [coord[1] for coord in pos]\n",
    "        minw, maxw = offset_x + scale * min(ws), offset_x + scale * max(ws)\n",
    "        minh, maxh = offset_y + scale * (im_height - max(hs)), offset_y + scale * (im_height - min(hs))\n",
    "        # Ensure minimum width, weight (10 * scale)\n",
    "        if maxw - minw < 10 * scale:\n",
    "            minw -= 5 * scale\n",
    "            maxw += 5 * scale\n",
    "        if maxh - minh < 10 * scale:\n",
    "            minh -= 5 * scale\n",
    "            maxh += 5 * scale\n",
    "        bbw, bbh = maxw - minw, maxh - minh\n",
    "        if bbox_disjoint(src_bbox, (minw, minh, bbw, bbh)):\n",
    "            return False\n",
    "        bboxes.append([inv_shapes['arrow'], minw, minh, bbw, bbh])\n",
    "        if print_bbox:\n",
    "            rectangle = patches.Rectangle((minw, minh), bbw, bbh, \n",
    "                             linewidth=1, edgecolor='r', facecolor='none')\n",
    "            plt.gca().add_patch(rectangle)\n",
    "            \n",
    "    # Save these bboxes to a file\n",
    "    with open(Path(ddir, 'labels', ink['label_id']).with_suffix('.txt'), 'w') as file:\n",
    "        for bbox in bboxes:\n",
    "            file.write(' '.join([str(label) for label in bbox]) + '\\n')\n",
    "            \n",
    "    return True\n",
    "\n",
    "    \n",
    "def display_strokes(ink):\n",
    "    for s in ink[\"drawing\"]:\n",
    "        plt.plot(s[0], [y for y in s[1]], color=\"black\")\n",
    "\n",
    "        \n",
    "def display_ink(ddir, ink):\n",
    "    # Draw image, overlay strokes.\n",
    "    PrepareDrawing()\n",
    "    display_strokes(ink)\n",
    "    scheck = approx_bb(ddir, ink, print_bbox=True)\n",
    "    if not scheck:\n",
    "        # Do not print. Ignore this figure.\n",
    "        return\n",
    "    canvas = FigureCanvas(plt.gcf())\n",
    "    canvas.print_figure(str(Path(ddir, 'images', ink['label_id']).with_suffix('.png')), bbox_inches='tight')\n",
    "\n",
    "\n",
    "def parse_drawings():\n",
    "    for dataset in DATASETS:\n",
    "        ddir = data_dir(dataset)\n",
    "        \n",
    "        # Collect only the relevant drawings\n",
    "        drawings = []\n",
    "        ink_set = set()\n",
    "        with open(json_file(dataset), 'r') as file:\n",
    "            for line in file:\n",
    "                ink = json.loads(line)\n",
    "                label_id = ink['label_id']\n",
    "                if label_id in ink_set:\n",
    "                    continue\n",
    "                ink_set.add(label_id)\n",
    "                \n",
    "                drawings.append(ink)\n",
    "        \n",
    "        # Now iterate over drawings to\n",
    "        # - print strokes\n",
    "        # - approx bb\n",
    "        for ink in tqdm(drawings):\n",
    "            split = SPLITS[ink['split']]\n",
    "            display_ink(f'{ddir}/{split}', ink)"
   ]
  },
  {
   "cell_type": "code",
   "execution_count": 152,
   "id": "633a35ee",
   "metadata": {},
   "outputs": [
    {
     "name": "stderr",
     "output_type": "stream",
     "text": [
      "100%|█████████████████████████████████████████████████████████████████████████████████████████████████████████████████████████████████████████████████████| 940/940 [00:43<00:00, 21.52it/s]\n",
      "100%|███████████████████████████████████████████████████████████████████████████████████████████████████████████████████████████████████████████████████| 5629/5629 [05:17<00:00, 17.74it/s]\n"
     ]
    },
    {
     "data": {
      "image/png": "[encoded data removed]",
      "text/plain": [
       "<Figure size 640x480 with 1 Axes>"
      ]
     },
     "metadata": {},
     "output_type": "display_data"
    }
   ],
   "source": [
    "parse_drawings()"
   ]
  },
  {
   "cell_type": "code",
   "execution_count": null,
   "id": "7795f2cb",
   "metadata": {},
   "outputs": [],
   "source": []
  }
 ],
 "metadata": {
  "kernelspec": {
   "display_name": "Python 3 (ipykernel)",
   "language": "python",
   "name": "python3"
  },
  "language_info": {
   "codemirror_mode": {
    "name": "ipython",
    "version": 3
   },
   "file_extension": ".py",
   "mimetype": "text/x-python",
   "name": "python",
   "nbconvert_exporter": "python",
   "pygments_lexer": "ipython3",
   "version": "3.11.5"
  }
 },
 "nbformat": 4,
 "nbformat_minor": 5
}
