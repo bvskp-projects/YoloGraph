{
 "cells": [
  {
   "cell_type": "markdown",
   "id": "98df6ae6",
   "metadata": {},
   "source": [
    "## Setup\n",
    "\n",
    "- Working directory: Project Root Directory\n",
    "- Required Packages: google-cloud-storage"
   ]
  },
  {
   "cell_type": "code",
   "execution_count": 1,
   "id": "028a88b5",
   "metadata": {},
   "outputs": [],
   "source": [
    "import os\n",
    "import json\n",
    "import logging\n",
    "\n",
    "from pathlib import Path\n",
    "from google.cloud import storage\n",
    "from matplotlib.backends.backend_agg import FigureCanvasAgg as FigureCanvas\n",
    "from matplotlib.figure import Figure\n",
    "from matplotlib import pyplot as plt\n",
    "import matplotlib.patches as patches\n",
    "from tqdm.contrib.concurrent import thread_map\n",
    "from tqdm import tqdm"
   ]
  },
  {
   "cell_type": "code",
   "execution_count": 2,
   "id": "786d4857",
   "metadata": {},
   "outputs": [],
   "source": [
    "# Settings.\n",
    "\n",
    "JSON_FILES = [\"diagrams_wo_text_20200131.ndjson\", \"diagrams_20200131.ndjson\"]\n",
    "BUCKET_NAME = \"digital_ink_diagram_data\"\n",
    "LOCAL_DATA_DIR = \"data/didi\"\n",
    "MAX_WORKERS = 8"
   ]
  },
  {
   "cell_type": "code",
   "execution_count": null,
   "id": "fbacf89f",
   "metadata": {},
   "outputs": [],
   "source": [
    "def download_blob(blob):\n",
    "    blob.download_to_filename(str(Path(LOCAL_DATA_DIR, blob.name))\n",
    "    print(f'Downloaded {blob.name}')"
   ]
  },
  {
   "cell_type": "code",
   "execution_count": null,
   "id": "2fc5f891",
   "metadata": {},
   "outputs": [],
   "source": [
    "def download_all():\n",
    "    # Google Storage Client\n",
    "    client = storage.Client.create_anonymous_client()\n",
    "    bucket = client.bucket(bucket_name=BUCKET_NAME)\n",
    "    \n",
    "    # Make data directory if not exists\n",
    "    Path(LOCAL_DATA_DIR, 'dot').mkdir(parents=True, exist_ok=True)\n",
    "    Path(LOCAL_DATA_DIR, 'png').mkdir(parents=True, exist_ok=True)\n",
    "    Path(LOCAL_DATA_DIR, 'xdot').mkdir(parents=True, exist_ok=True)\n",
    "    \n",
    "    blobs = [blob for blob in bucket.list_blobs()]\n",
    "    \n",
    "    thread_map(download_blob, blobs, max_workers=MAX_WORKERS)"
   ]
  },
  {
   "cell_type": "code",
   "execution_count": null,
   "id": "000ba0f4",
   "metadata": {},
   "outputs": [],
   "source": [
    "download_all()"
   ]
  },
  {
   "cell_type": "code",
   "execution_count": null,
   "id": "9644f8c1",
   "metadata": {},
   "outputs": [],
   "source": [
    "## data/didi/images/{label_id}.png\n",
    "\n",
    "# Convert drawing strokes to an image\n",
    "# Test playground\n",
    "\n",
    "\n",
    "ax = plt.gca()\n",
    "ax.set_aspect(\"equal\")\n",
    "ax.yaxis.set_visible(False)\n",
    "ax.xaxis.set_visible(False)\n",
    "\n",
    "Path(f'{LOCAL_DATA_DIR}/images').mkdir(exist_ok=True)\n",
    "count = 0\n",
    "with open(os.path.join(LOCAL_DATA_DIR, JSON_FILES[0])) as f:\n",
    "    for line in f:\n",
    "        ink = json.loads(line)\n",
    "        plt.clf()\n",
    "        for s in ink[\"drawing\"]:\n",
    "            plt.plot(s[0], [y for y in s[1]], color=\"red\")\n",
    "        plt.savefig(f'{LOCAL_DATA_DIR}/images/{ink[\"label_id\"]}.png')\n",
    "        if count > 0:\n",
    "            break\n",
    "        count += 1"
   ]
  },
  {
   "cell_type": "code",
   "execution_count": null,
   "id": "477fe2df",
   "metadata": {},
   "outputs": [],
   "source": [
    "from matplotlib import pyplot as plt\n",
    "import json\n",
    "\n",
    "ax = plt.gca()\n",
    "ax.set_aspect(\"equal\")\n",
    "ax.yaxis.set_visible(False)\n",
    "ax.xaxis.set_visible(False)\n",
    "\n",
    "Path(f'{LOCAL_DATA_DIR}/images').mkdir(exist_ok=True)\n",
    "with open(os.path.join(LOCAL_DATA_DIR, JSON_FILES[0])) as f:\n",
    "    for line in f:\n",
    "        ink = json.loads(line)\n",
    "        plt.clf()\n",
    "        for s in ink[\"drawing\"]:\n",
    "            plt.plot(s[0], [y for y in s[1]], color=\"red\")\n",
    "        plt.savefig(f'{LOCAL_DATA_DIR}/images/{ink[\"label_id\"]}.png')"
   ]
  },
  {
   "cell_type": "code",
   "execution_count": null,
   "id": "b75d4549",
   "metadata": {},
   "outputs": [],
   "source": [
    "## data/didi/classes.txt\n",
    "\n",
    "# List distinct classes\n",
    "import pydot\n",
    "\n",
    "graphs = pydot.graph_from_dot_file('data/didi/xdot/0007d1d60eb54be62f50d7d8bc384f41010c9009.xdot')\n",
    "\n",
    "graph = graphs[0]\n",
    "\n",
    "# from IPython.display import Image, display\n",
    "# plt = Image(graph.create_png())\n",
    "# display(plt)\n",
    "\n",
    "\n",
    "# graph.get_bb()\n",
    "node = graph.get_node('0')[0]\n",
    "dir(node)\n",
    "node.get_shape()"
   ]
  },
  {
   "cell_type": "code",
   "execution_count": null,
   "id": "d63940bf",
   "metadata": {},
   "outputs": [],
   "source": [
    "## Match node ids from png and xdot folders\n",
    "\n",
    "from os import listdir\n",
    "from pathlib import Path\n",
    "\n",
    "png_dir = f'{LOCAL_DATA_DIR}/png'\n",
    "png_set = set()\n",
    "for fname in listdir(png_dir):\n",
    "    png_set.add(str(Path(fname).with_suffix('')))"
   ]
  },
  {
   "cell_type": "code",
   "execution_count": null,
   "id": "752bd217",
   "metadata": {},
   "outputs": [],
   "source": [
    "from os import listdir\n",
    "from pathlib import Path\n",
    "\n",
    "xdot_dir = f'{LOCAL_DATA_DIR}/xdot'\n",
    "xdot_set = set()\n",
    "for fname in listdir(xdot_dir):\n",
    "    xdot_set.add(str(Path(fname).with_suffix('')))"
   ]
  },
  {
   "cell_type": "code",
   "execution_count": null,
   "id": "2e8f922b",
   "metadata": {},
   "outputs": [],
   "source": [
    "png_set == xdot_set"
   ]
  },
  {
   "cell_type": "code",
   "execution_count": 4,
   "id": "2d08aab7",
   "metadata": {},
   "outputs": [
    {
     "name": "stderr",
     "output_type": "stream",
     "text": [
      "36368it [00:42, 865.07it/s] \n"
     ]
    },
    {
     "data": {
      "text/plain": [
       "<Figure size 640x480 with 0 Axes>"
      ]
     },
     "metadata": {},
     "output_type": "display_data"
    }
   ],
   "source": [
    "from matplotlib import pyplot as plt\n",
    "import json\n",
    "from tqdm import tqdm\n",
    "\n",
    "ax = plt.gca()\n",
    "ax.set_aspect(\"equal\")\n",
    "ax.yaxis.set_visible(False)\n",
    "ax.xaxis.set_visible(False)\n",
    "\n",
    "ink_set = set()\n",
    "Path(f'{LOCAL_DATA_DIR}/images').mkdir(exist_ok=True)\n",
    "with open(os.path.join(LOCAL_DATA_DIR, JSON_FILES[0])) as file:\n",
    "    lines = file.readlines()\n",
    "    for line in tqdm(reversed(lines)):\n",
    "        ink = json.loads(line)\n",
    "        plt.clf()\n",
    "        if ink['label_id'] in ink_set:\n",
    "            continue\n",
    "\n",
    "        ink_set.add(ink['label_id'])\n",
    "        for s in ink[\"drawing\"]:\n",
    "            plt.plot(s[0], [y for y in s[1]], color=\"red\")\n",
    "        plt.savefig(f'{LOCAL_DATA_DIR}/images/{ink[\"label_id\"]}.png')"
   ]
  },
  {
   "cell_type": "code",
   "execution_count": 8,
   "id": "604455b3",
   "metadata": {},
   "outputs": [
    {
     "name": "stderr",
     "output_type": "stream",
     "text": [
      "  3%|██▌                                                                                 | 1131/36368 [00:00<00:08, 4055.71it/s]\n"
     ]
    },
    {
     "data": {
      "text/plain": [
       "'Saved ...'"
      ]
     },
     "execution_count": 8,
     "metadata": {},
     "output_type": "execute_result"
    },
    {
     "data": {
      "image/png": "[encoded data removed]",
      "text/plain": [
       "<Figure size 640x480 with 1 Axes>"
      ]
     },
     "metadata": {},
     "output_type": "display_data"
    }
   ],
   "source": [
    "# Displays prompt images with drawing overlaid.\n",
    "\n",
    "import pydot\n",
    "\n",
    "def get_label_file(type, labelid):\n",
    "    file_id = os.path.join(type, \"%s.%s\" % (labelid, type))\n",
    "    fname = os.path.join(LOCAL_DATA_DIR, file_id)\n",
    "    if os.path.exists(fname):\n",
    "        return fname\n",
    "    return fname\n",
    "\n",
    "\n",
    "def PrepareDrawing():\n",
    "    plt.clf()\n",
    "    plt.axes().set_aspect(\"equal\")\n",
    "    plt.gca().yaxis.set_visible(False)\n",
    "    plt.gca().xaxis.set_visible(False)\n",
    "    plt.gca().axis('off')\n",
    "\n",
    "    \n",
    "def display_image(ink):\n",
    "#     im = plt.imread(os.path.join(LOCAL_DATA_DIR, \"png\", ink[\"label_id\"] + \".png\"))\n",
    "    # Compute scaling of the image.\n",
    "    guide_width = ink[\"writing_guide\"][\"width\"]\n",
    "    guide_height = ink[\"writing_guide\"][\"height\"]\n",
    "#     im_height, im_width, _ = im.shape\n",
    "    graph = pydot.graph_from_dot_file(f'data/didi/xdot/{ink[\"label_id\"]}.xdot')[0]\n",
    "    bb = [float(coord) for coord in graph.get_bb().strip('\"').split(',')]\n",
    "    im_width, im_height = bb[2] - bb[0], bb[3] - bb[1]\n",
    "#     wscale = guide_width / (bb[3] - bb[1])\n",
    "#     hscale = guide_height / (bb[2] - bb[0])\n",
    "    scale=min(guide_width / im_width, guide_height / im_height)\n",
    "    offset_x = (guide_width - scale * im_width) / 2\n",
    "    offset_y = (guide_height - scale * im_height) / 2\n",
    "#     print(guide_width, guide_height)\n",
    "    \n",
    "    for node in graph.get_nodes():\n",
    "        shape = node.get_shape()\n",
    "        if shape is not None:\n",
    "            pos = [float(coord) for coord in node.get_pos().strip('\"').split(',')]\n",
    "            cw = offset_x + scale * (im_width - pos[0])\n",
    "            ch = offset_y + scale * (im_height - pos[1])\n",
    "            bbscale = 400/0.8\n",
    "            bbw, bbh = float(node.get_width()) * bbscale, float(node.get_height()) * bbscale\n",
    "            rectangle = patches.Rectangle((cw - bbw/2, ch - bbh/2), bbw, bbh, \n",
    "                             linewidth=1, edgecolor='b', facecolor='none')\n",
    "            plt.gca().add_patch(rectangle)\n",
    "\n",
    "    \n",
    "def display_strokes(ink):\n",
    "    for s in ink[\"drawing\"]:\n",
    "        plt.plot(s[0], [y for y in s[1]], color=\"red\")\n",
    "\n",
    "        \n",
    "def display_ink(ink):\n",
    "    # Fetch the corresponding PNG image.\n",
    "    get_label_file(\"png\", ink[\"label_id\"])\n",
    "    # Draw image, overlay strokes.\n",
    "    PrepareDrawing()\n",
    "    display_image(ink)\n",
    "    display_strokes(ink)\n",
    "#     print(f'Saving {LOCAL_DATA_DIR}/images/{ink[\"label_id\"]}.png')\n",
    "    plt.savefig(f'{LOCAL_DATA_DIR}/images/{ink[\"label_id\"]}.png', bbox_inches='tight')\n",
    "\n",
    "\n",
    "Path(f'{LOCAL_DATA_DIR}/images').mkdir(exist_ok=True)\n",
    "for json_file in JSON_FILES:\n",
    "    count = 0\n",
    "    with open(os.path.join(LOCAL_DATA_DIR, json_file)) as f:\n",
    "        lines = f.readlines()\n",
    "        for line in tqdm(lines):\n",
    "            ink = json.loads(line)\n",
    "            if ink['label_id'] == '0564aa8ca586f2e93661d1e26d4f5d7babbb382f':\n",
    "                display_ink(ink)\n",
    "                break\n",
    "        break\n",
    "                \n",
    "'Saved ...'"
   ]
  },
  {
   "cell_type": "code",
   "execution_count": null,
   "id": "4c0a5eaa",
   "metadata": {},
   "outputs": [],
   "source": [
    "next(iter(png_set))"
   ]
  },
  {
   "cell_type": "code",
   "execution_count": null,
   "id": "6bad88c9",
   "metadata": {},
   "outputs": [],
   "source": [
    "match_count = 0\n",
    "nomatch_count = 0\n",
    "with open(os.path.join(LOCAL_DATA_DIR, JSON_FILES[0])) as f:\n",
    "    for line in tqdm(f):\n",
    "        ink = json.loads(line)\n",
    "        plt.clf()\n",
    "        if ink['label_id'] in png_set:\n",
    "            match_count += 1\n",
    "        else:\n",
    "            nomatch_count += 1\n",
    "            \n",
    "match_count, nomatch_count"
   ]
  },
  {
   "cell_type": "code",
   "execution_count": null,
   "id": "abf7a4d6",
   "metadata": {},
   "outputs": [],
   "source": [
    "len(png_set)"
   ]
  },
  {
   "cell_type": "code",
   "execution_count": null,
   "id": "594902d2",
   "metadata": {},
   "outputs": [],
   "source": [
    "'0007d1d60eb54be62f50d7d8bc384f41010c9009' in png_set"
   ]
  },
  {
   "cell_type": "code",
   "execution_count": null,
   "id": "d9807b16",
   "metadata": {},
   "outputs": [],
   "source": [
    "from matplotlib import pyplot as plt\n",
    "import json\n",
    "from tqdm import tqdm\n",
    "\n",
    "ax = plt.gca()\n",
    "ax.set_aspect(\"equal\")\n",
    "ax.yaxis.set_visible(False)\n",
    "ax.xaxis.set_visible(False)\n",
    "\n",
    "Path(f'{LOCAL_DATA_DIR}/images').mkdir(exist_ok=True)\n",
    "ink_set = set()\n",
    "for json_file in JSON_FILES:\n",
    "    with open(os.path.join(LOCAL_DATA_DIR, json_file)) as f:\n",
    "        for line in tqdm(f):\n",
    "            ink = json.loads(line)\n",
    "            ink_id = ink['label_id']\n",
    "            ink_set.add(ink_id)\n",
    "            \n",
    "len(ink_set)"
   ]
  },
  {
   "cell_type": "code",
   "execution_count": null,
   "id": "89f28922",
   "metadata": {},
   "outputs": [],
   "source": [
    "# Set the frame for stroking\n",
    "fig = plt.Figure()\n",
    "ax = fig.add_subplot(111)\n",
    "#     ax.set_aspect(\"equal\")\n",
    "ax.yaxis.set_visible(False)\n",
    "ax.xaxis.set_visible(False)\n",
    "\n",
    "# Ensure output directory exists\n",
    "Path(LOCAL_DATA_DIR, 'images').mkdir(parents=True, exist_ok=True)\n",
    "\n",
    "# When there are multiple drawings for a single label, we pick the first one.\n",
    "ink_set = set()\n",
    "\n",
    "# Parse the files to collect drawings\n",
    "for json_file in JSON_FILES:\n",
    "    count = 0\n",
    "    with open(os.path.join(LOCAL_DATA_DIR, json_file)) as f:\n",
    "        for line in tqdm(f):\n",
    "            ink = json.loads(line)\n",
    "            ink_id = ink['label_id']\n",
    "\n",
    "            if ink_id in ink_set:\n",
    "                # Only process the first drawing with the label.\n",
    "                continue\n",
    "            ink_set.add(ink_id)\n",
    "\n",
    "            # Draw the strokes now\n",
    "            ax.clear()\n",
    "            ax.axis('off')\n",
    "            w, h = ink['writing_guide']['width'], ink['writing_guide']['height']\n",
    "            ax.set_xlim(0, w)\n",
    "            ax.set_ylim(0, h)\n",
    "\n",
    "            for s in ink[\"drawing\"]:\n",
    "                ax.plot(s[0], [y for y in s[1]], color=\"black\")\n",
    "\n",
    "            # Parse xdot file\n",
    "            graph = pydot.graph_from_dot_file(str(Path(\n",
    "                LOCAL_DATA_DIR, 'xdot', ink['label_id']).with_suffix('.xdot')))[0]\n",
    "            bb = [float(coord) for coord in graph.get_bb().strip('\"').split(',')]\n",
    "            wscale = w / (bb[3] - bb[1])\n",
    "            hscale = h / (bb[2] - bb[0])\n",
    "            for node in graph.get_nodes():\n",
    "                pos = node.get_pos()\n",
    "                if pos is not None and node.get_shape() is not None:\n",
    "                    pos = [float(coord) for coord in pos.strip('\"').split(',')]\n",
    "                    wpos, hpos = pos[1], pos[0]\n",
    "                    wnode, hnode = 5, 7.5\n",
    "#                     rectangle = patches.Rectangle(\n",
    "#                         (wpos - wnode/2, hpos - hnode/2), wnode, hnode, linewidth=1, edgecolor='r', facecolor='none')\n",
    "                    rectangle = patches.Rectangle(\n",
    "                        (wscale * (wpos - wnode/2), hscale * (hpos - hnode/2)),\n",
    "                        wscale * wnode, hscale * hnode, edgecolor='r')\n",
    "                    ax.add_patch(rectangle)\n",
    "                    print(wscale, hscale)\n",
    "                    print(wscale * (wpos - wnode/2), hscale * (hpos - hnode/2))\n",
    "                    print(wscale * wnode, hscale * hnode)\n",
    "\n",
    "            # Source: https://stackoverflow.com/a/44206924\n",
    "            canvas = FigureCanvas(fig)\n",
    "#                 ax.set_axis_off()\n",
    "#                 fig.subplots_adjust(left=0, bottom=0, right=1, top=1, wspace=0, hspace=0)\n",
    "            canvas.print_figure(str(Path(LOCAL_DATA_DIR, 'images', ink_id).with_suffix('.png')))\n",
    "\n",
    "            if count > 1:\n",
    "                break\n",
    "            else:\n",
    "                count = count + 1\n",
    "        break"
   ]
  },
  {
   "cell_type": "code",
   "execution_count": null,
   "id": "c3ae352a",
   "metadata": {},
   "outputs": [],
   "source": [
    "import shutil\n",
    "\n",
    "shutil.rmtree(str(Path(LOCAL_DATA_DIR)))"
   ]
  },
  {
   "cell_type": "code",
   "execution_count": null,
   "id": "2d48917a",
   "metadata": {},
   "outputs": [],
   "source": [
    "from didi_data import clean, download_all, ink_all_drawings"
   ]
  },
  {
   "cell_type": "code",
   "execution_count": null,
   "id": "61fc800d",
   "metadata": {},
   "outputs": [],
   "source": [
    "clean()"
   ]
  },
  {
   "cell_type": "code",
   "execution_count": null,
   "id": "ec8f3a94",
   "metadata": {},
   "outputs": [],
   "source": [
    "download_all()"
   ]
  },
  {
   "cell_type": "code",
   "execution_count": null,
   "id": "35b0e3c7",
   "metadata": {},
   "outputs": [],
   "source": [
    "ink_all_drawings()"
   ]
  },
  {
   "cell_type": "code",
   "execution_count": null,
   "id": "45989f37",
   "metadata": {},
   "outputs": [],
   "source": [
    "# Set the frame for stroking\n",
    "if False:\n",
    "    fig = plt.Figure()\n",
    "    ax = fig.add_subplot(111)\n",
    "    ax.set_aspect(\"equal\")\n",
    "    ax.yaxis.set_visible(False)\n",
    "    ax.xaxis.set_visible(False)\n",
    "\n",
    "# Ensure output directory exists\n",
    "Path(LOCAL_DATA_DIR, 'images').mkdir(parents=True, exist_ok=True)\n",
    "\n",
    "# When there are multiple drawings for a single label, we pick the first one.\n",
    "ink_set = set()\n",
    "shapes_list = ['box', 'oval', 'diamond', 'octagon', 'parallelogram', 'arrow']\n",
    "shapes_dict = {shape: idx for idx, shape in enumerate(shapes_list)}\n",
    "\n",
    "# Parse the files to collect drawings\n",
    "for json_file in JSON_FILES:\n",
    "    with open(os.path.join(LOCAL_DATA_DIR, json_file)) as f:\n",
    "        for line in tqdm(f):\n",
    "            ink = json.loads(line)\n",
    "            ink_id = ink['label_id']\n",
    "\n",
    "            if ink_id in ink_set:\n",
    "                # Only process the first drawing with the label.\n",
    "                continue\n",
    "            ink_set.add(ink_id)\n",
    "\n",
    "            # Parse xdot file\n",
    "            graph = pydot.graph_from_dot_file(str(Path(\n",
    "                LOCAL_DATA_DIR, 'xdot', ink['label_id']).with_suffix('.xdot')))[0]\n",
    "            for node in graph.get_nodes():\n",
    "                pos = node.get_pos()\n",
    "                if pos is not None:\n",
    "                    w, h = node.get_width(), node.get_height()\n",
    "                    \n",
    "                \n",
    "\n",
    "\n",
    "            # Draw the strokes now\n",
    "            if False:\n",
    "                ax.clear()\n",
    "                ax.axis('off')\n",
    "\n",
    "                for s in ink[\"drawing\"]:\n",
    "                    ax.plot(s[0], [y for y in s[1]], color=\"black\")\n",
    "\n",
    "                # Source: https://stackoverflow.com/a/44206924\n",
    "                canvas = FigureCanvas(fig)\n",
    "                canvas.print_figure(str(Path(LOCAL_DATA_DIR, 'images', ink_id).with_suffix('.png')),\n",
    "                                    bbox_inches='tight')\n",
    "\n",
    "# Output shapes to file\n",
    "with open(str(Path(LOCAL_DATA_DIR, 'shapes.txt')), 'w') as file:\n",
    "    for shape in shapes_list:\n",
    "        file.write(shape + '\\n')"
   ]
  },
  {
   "cell_type": "code",
   "execution_count": null,
   "id": "76f19f48",
   "metadata": {},
   "outputs": [],
   "source": [
    "import pydot\n",
    "\n",
    "graphs = pydot.graph_from_dot_file('data/didi/xdot/0007d1d60eb54be62f50d7d8bc384f41010c9009.xdot')\n",
    "\n",
    "graph = graphs[0]\n",
    "\n",
    "# from IPython.display import Image, display\n",
    "# plt = Image(graph.create_png())\n",
    "# display(plt)\n",
    "\n",
    "# graph.get_bb()\n",
    "for node in graph.get_nodes():\n",
    "    val = node.get_pos()\n",
    "    if val is not None:\n",
    "        print(val)\n",
    "        break\n",
    "#     print(dir(node))\n",
    "#     break\n",
    "# graph.get_size()"
   ]
  },
  {
   "cell_type": "code",
   "execution_count": null,
   "id": "2736deed",
   "metadata": {},
   "outputs": [],
   "source": [
    "from PIL import Image\n",
    "\n",
    "def get_image_dimensions(image_path):\n",
    "    with Image.open(image_path) as img:\n",
    "        width, height = img.size\n",
    "        return width, height\n",
    "\n",
    "image_path = str(Path(LOCAL_DATA_DIR, 'images', '40c2d065f4a3a93836d021752531fe438730b4c3.png'))  # Replace with the actual path to your PNG image\n",
    "\n",
    "width, height = get_image_dimensions(image_path)\n",
    "print(f\"Width: {width}px, Height: {height}px\")"
   ]
  },
  {
   "cell_type": "code",
   "execution_count": null,
   "id": "710eb1ab",
   "metadata": {},
   "outputs": [],
   "source": [
    "640/2400, 480/1432"
   ]
  },
  {
   "cell_type": "code",
   "execution_count": null,
   "id": "bf4de3bf",
   "metadata": {},
   "outputs": [],
   "source": []
  }
 ],
 "metadata": {
  "kernelspec": {
   "display_name": "Python 3 (ipykernel)",
   "language": "python",
   "name": "python3"
  },
  "language_info": {
   "codemirror_mode": {
    "name": "ipython",
    "version": 3
   },
   "file_extension": ".py",
   "mimetype": "text/x-python",
   "name": "python",
   "nbconvert_exporter": "python",
   "pygments_lexer": "ipython3",
   "version": "3.11.5"
  }
 },
 "nbformat": 4,
 "nbformat_minor": 5
}
