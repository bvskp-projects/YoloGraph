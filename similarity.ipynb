{
 "cells": [
  {
   "cell_type": "code",
   "execution_count": 1,
   "id": "c4431cc8-b426-496e-b133-606a15c1fda0",
   "metadata": {},
   "outputs": [],
   "source": [
    "import os\n",
    "\n",
    "os.environ[\"CUDA_VISIBLE_DEVICES\"] = \"1\""
   ]
  },
  {
   "cell_type": "code",
   "execution_count": 2,
   "id": "ef3432c8-4648-44e1-a184-976c1416d589",
   "metadata": {},
   "outputs": [
    {
     "name": "stdout",
     "output_type": "stream",
     "text": [
      "Creating yolo model from models/Yolov5s_best.pt\n"
     ]
    },
    {
     "name": "stderr",
     "output_type": "stream",
     "text": [
      "YOLOv5 🚀 v7.0-247-g3f02fde Python-3.10.13 torch-2.1.1+cu118 CUDA:0 (NVIDIA GeForce RTX 2080 Ti, 11012MiB)\n",
      "\n",
      "Fusing layers... \n",
      "Model summary: 157 layers, 7026307 parameters, 0 gradients, 15.8 GFLOPs\n",
      "Adding AutoShape... \n"
     ]
    },
    {
     "name": "stdout",
     "output_type": "stream",
     "text": [
      "Creating text model from models/TRBA_best_accuracy.pth\n",
      "loading pretrained model from models/TRBA_best_accuracy.pth\n",
      "Running similarity test for dataset='fa'\n",
      "Got 4 images correct out of 84\n",
      "Similarity score for dataset='fa' is 0.047619047619047616\n",
      "Running similarity test for dataset='fca'\n",
      "Got 155 images correct out of 171\n",
      "Similarity score for dataset='fca' is 0.9064327485380117\n",
      "Running similarity test for dataset='fcb'\n",
      "Got 186 images correct out of 196\n",
      "Similarity score for dataset='fcb' is 0.9489795918367347\n",
      "Running similarity test for dataset='fcb_scan'\n",
      "Got 192 images correct out of 196\n",
      "Similarity score for dataset='fcb_scan' is 0.9795918367346939\n",
      "Running similarity test for dataset='didi_diagrams_wo_text'\n",
      "Got 42 images correct out of 130\n",
      "Similarity score for dataset='didi_diagrams_wo_text' is 0.3230769230769231\n"
     ]
    }
   ],
   "source": [
    "from similarity import run_tests\n",
    "\n",
    "run_tests()"
   ]
  }
 ],
 "metadata": {
  "kernelspec": {
   "display_name": "Python 3 (ipykernel)",
   "language": "python",
   "name": "python3"
  },
  "language_info": {
   "codemirror_mode": {
    "name": "ipython",
    "version": 3
   },
   "file_extension": ".py",
   "mimetype": "text/x-python",
   "name": "python",
   "nbconvert_exporter": "python",
   "pygments_lexer": "ipython3",
   "version": "3.10.13"
  }
 },
 "nbformat": 4,
 "nbformat_minor": 5
}
